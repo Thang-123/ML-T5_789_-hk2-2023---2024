{
  "nbformat": 4,
  "nbformat_minor": 0,
  "metadata": {
    "colab": {
      "provenance": [],
      "authorship_tag": "ABX9TyNCmSwrzZlH+0ruc8HAOezQ",
      "include_colab_link": true
    },
    "kernelspec": {
      "name": "python3",
      "display_name": "Python 3"
    },
    "language_info": {
      "name": "python"
    }
  },
  "cells": [
    {
      "cell_type": "markdown",
      "metadata": {
        "id": "view-in-github",
        "colab_type": "text"
      },
      "source": [
        "<a href=\"https://colab.research.google.com/github/Thang-123/ML-T5_789_-hk2-2023---2024/blob/main/Lab1_21130535_NguyenHuuThang.ipynb\" target=\"_parent\"><img src=\"https://colab.research.google.com/assets/colab-badge.svg\" alt=\"Open In Colab\"/></a>"
      ]
    },
    {
      "cell_type": "markdown",
      "source": [
        "Task 1.1"
      ],
      "metadata": {
        "id": "hEVxs3TXaqWP"
      }
    },
    {
      "cell_type": "code",
      "execution_count": 1,
      "metadata": {
        "id": "5Y0uMCMRvefV"
      },
      "outputs": [],
      "source": [
        "def get_input_list(n):\n",
        " x = 0\n",
        " L =[]\n",
        " count =0\n",
        " while  x < n:\n",
        "   x1 =int(input(\"Enter x\" +str(count)+\":\"))\n",
        "   L.append(x1)\n",
        "   x += 1\n",
        "   count += 1\n",
        " return (L)\n",
        "def find_max(L):\n",
        "  return max(L)\n",
        "\n",
        "def find_min(L):\n",
        "  return min(L)\n",
        "def calculate_sum(L):\n",
        "  return sum(L)\n",
        "def sort_my_list(my_list):\n",
        "  sorted_list = sorted(my_list)\n",
        "  return sorted_list\n",
        "def count_pos_neg(my_list):\n",
        "  amount_neg =0\n",
        "  amount_pos =0\n",
        "  for x in my_list:\n",
        "    if x > 0:\n",
        "      amount_pos += 1\n",
        "    elif x < 0:\n",
        "      amount_neg += 1\n",
        "  return amount_pos,amount_neg"
      ]
    },
    {
      "cell_type": "code",
      "source": [
        "n = int(input(\"Enter n:\"))\n",
        "my_list = get_input_list(n)\n",
        "print (my_list)\n",
        "print(\"Maximum:\", find_max(my_list))\n",
        "print(\"Minimum:\", find_min(my_list))\n",
        "print(\"Sum:\", calculate_sum(my_list))"
      ],
      "metadata": {
        "colab": {
          "base_uri": "https://localhost:8080/"
        },
        "id": "Drh9P_ZTv8WP",
        "outputId": "19f3b686-3b6f-4794-a1e8-2d4215035ee0"
      },
      "execution_count": 2,
      "outputs": [
        {
          "output_type": "stream",
          "name": "stdout",
          "text": [
            "Enter n:3\n",
            "Enter x0:-1\n",
            "Enter x1:2\n",
            "Enter x2:3\n",
            "[-1, 2, 3]\n",
            "Maximum: 3\n",
            "Minimum: -1\n",
            "Sum: 4\n"
          ]
        }
      ]
    },
    {
      "cell_type": "code",
      "source": [
        "sort_list = sort_my_list(my_list)\n",
        "print(sort_list)"
      ],
      "metadata": {
        "colab": {
          "base_uri": "https://localhost:8080/"
        },
        "id": "FUH3RShgXy2V",
        "outputId": "e4d0ad40-f7aa-4e17-8f69-7de9471f8587"
      },
      "execution_count": 3,
      "outputs": [
        {
          "output_type": "stream",
          "name": "stdout",
          "text": [
            "[-1, 2, 3]\n"
          ]
        }
      ]
    },
    {
      "cell_type": "code",
      "source": [
        "\n",
        "amount_pos, amount_neg = count_pos_neg(my_list)\n",
        "print(\"Amount of negative elements in list:\",amount_neg)\n",
        "print(\"Amount of negative elements in list:\",amount_pos)"
      ],
      "metadata": {
        "colab": {
          "base_uri": "https://localhost:8080/"
        },
        "id": "KTO8OS6JZsnT",
        "outputId": "0b2a144f-c91d-4bd4-c40c-40eff0d5983a"
      },
      "execution_count": 4,
      "outputs": [
        {
          "output_type": "stream",
          "name": "stdout",
          "text": [
            "Amount of negative elements in list: 1\n",
            "Amount of negative elements in list: 2\n"
          ]
        }
      ]
    },
    {
      "cell_type": "markdown",
      "source": [
        "# Mục mới"
      ],
      "metadata": {
        "id": "kVKo-_v2v7T7"
      }
    },
    {
      "cell_type": "markdown",
      "source": [
        "Task 1.2"
      ],
      "metadata": {
        "id": "5BPHC-L-awUJ"
      }
    },
    {
      "cell_type": "code",
      "source": [
        "def calc_S_recursive(n):\n",
        "    if n == 0:\n",
        "        return 1\n",
        "    else:\n",
        "        factorial_n = 1\n",
        "        for i in range(1, n + 1):\n",
        "            factorial_n *= i\n",
        "        return factorial_n + calc_S_recursive(n - 1)"
      ],
      "metadata": {
        "id": "x1d-Q_xdaxrX"
      },
      "execution_count": 5,
      "outputs": []
    },
    {
      "cell_type": "code",
      "source": [
        "print(calc_S_recursive(10))\n"
      ],
      "metadata": {
        "colab": {
          "base_uri": "https://localhost:8080/"
        },
        "id": "Iyg4CZvpdXL5",
        "outputId": "d350d652-ce33-4e43-f338-2962eba9eb68"
      },
      "execution_count": 6,
      "outputs": [
        {
          "output_type": "stream",
          "name": "stdout",
          "text": [
            "4037914\n"
          ]
        }
      ]
    },
    {
      "cell_type": "markdown",
      "source": [
        "Task 1.3"
      ],
      "metadata": {
        "id": "sO6h6SRgeGAZ"
      }
    },
    {
      "cell_type": "code",
      "source": [
        "from datetime import datetime\n",
        "class Account:\n",
        " def __init__(self, name, country, friends=None, posts=None):\n",
        "    self.name = name\n",
        "    self.country = country\n",
        "    self.friends = friends if friends is not None else []\n",
        "    self.posts = posts if posts is not None else []\n",
        " def __repr__(self):\n",
        "        return f\"NormalAccount(name='{self.name}', country='{self.country}', friends={self.get_friends_names()}, posts={len(self.posts)})\"\n",
        "\n",
        " def get_friends_names(self):\n",
        "        return [friend.name for friend in self.friends]\n",
        "class Post:\n",
        " def __init__(self, content, subject, likes):\n",
        "      self.content = content\n",
        "      self.subject = subject\n",
        "      self.likes = likes\n",
        " def __repr__(self):\n",
        "        return f\"Post(content='{self.content}', hashtag='{self.hashtag}', likes={self.likes})\"\n",
        "\n",
        "class VerifiedAccount(Account):\n",
        " def __init__(self, name, country, friends=None, posts=None, from_date=None):\n",
        "      super().__init__(name, country, friends, posts)\n",
        "      self.from_date = from_date\n",
        " def __repr__(self):\n",
        "      return f\"VerifiedAccount(name='{self.name}', country='{self.country}', friends={self.get_friends_names()}, posts={len(self.posts)}, from_date={self.from_date})\"\n",
        "\n",
        "\n",
        "\n",
        "class AccountManager:\n",
        " def __init__(self, accounts):\n",
        "    self.accounts = accounts\n",
        " def getMaxLikePostByFriend(self):\n",
        "    max_likes_account = None\n",
        "    max_likes = 0\n",
        "    for account in self.accounts:\n",
        "      for post in account.posts:\n",
        "        likes = post.likes\n",
        "        if(likes > max_likes):\n",
        "          max_likes = likes;\n",
        "          max_likes_account = account\n",
        "    return max_likes_account\n",
        "\n",
        " def groupAccountsByPostLike(self):\n",
        "        account_groups = {'true': [], 'false': []}\n",
        "\n",
        "        for account in self.accounts:\n",
        "            key = 'true' if len(account.posts) >= 10 else 'false'\n",
        "            account_groups[key].append(account)\n",
        "\n",
        "        return account_groups\n",
        " def filterAccounts(self, country):\n",
        "        filtered_accounts = [account for account in self.accounts if account.country == country]\n",
        "        sorted_accounts = sorted(filtered_accounts, key=lambda acc: (len(acc.posts), acc.name), reverse=True)\n",
        "        return sorted_accounts"
      ],
      "metadata": {
        "id": "wqf1RfbNeHgU"
      },
      "execution_count": 7,
      "outputs": []
    },
    {
      "cell_type": "code",
      "source": [
        "post1 = Post(\"100 likes nghi hoc\",\"#Linh tinh\",20)\n",
        "post2 = Post(\"cuc cung oi a cho em di an kem na\",\"#xam xi\",15)\n",
        "post3 = Post(\"Hello World\",\"#coding\",30)\n",
        "post4 = Post(\"Chuoi ngon qua\", \"#Food\", 25)\n",
        "post5 = Post(\"Chieu nay di choi\", \"#Weekend\", 18)\n",
        "post6 = Post(\"Coding is fun\", \"#Programming\", 22)\n",
        "post7 = Post(\"Traveling to a new place\", \"#Adventure\", 28)\n",
        "post8 = Post(\"Reading a good book\", \"#BookLover\", 14)\n",
        "post9 = Post(\"Working on a project\", \"#WorkInProgress\", 26)\n",
        "post10 = Post(\"Beautiful sunset\", \"#Nature\", 32)\n",
        "\n",
        "account1 = Account(\"User1\", \"USA\", friends=[], posts = [post1, post2, post3,post4,post5,post6,post7,post8,post9,post10])\n",
        "account2 = Account(\"User2\", \"Canada\", friends=[], posts =[post3])\n",
        "account3 = VerifiedAccount(\"User3\", \"USA\", friends=[account1, account2], posts =[post1, post3],from_date= datetime(2023, 1, 1))\n",
        "\n",
        "accounts = [account1, account2, account3]\n",
        "account_manager = AccountManager(accounts)\n",
        "\n",
        "# Example calls\n",
        "max_likes_account = account_manager.getMaxLikePostByFriend()\n",
        "print(\"Account with max likes from friends:\", max_likes_account.name if max_likes_account else \"None\")\n",
        "\n",
        "account_groups = account_manager.groupAccountsByPostLike()\n",
        "print(\"Accounts with 10 or more posts:\", account_groups['true'])\n",
        "print(\"Accounts with less than 10 posts:\", account_groups['false'])\n",
        "\n",
        "filtered_accounts = account_manager.filterAccounts(\"USA\")\n",
        "print(\"Filtered accounts from USA:\", [(acc.name, len(acc.posts)) for acc in filtered_accounts])"
      ],
      "metadata": {
        "colab": {
          "base_uri": "https://localhost:8080/"
        },
        "id": "q441D2GpqFiS",
        "outputId": "bb46e1a6-8e7f-46ea-99c8-bcd3add75a8e"
      },
      "execution_count": 8,
      "outputs": [
        {
          "output_type": "stream",
          "name": "stdout",
          "text": [
            "Account with max likes from friends: User1\n",
            "Accounts with 10 or more posts: [NormalAccount(name='User1', country='USA', friends=[], posts=10)]\n",
            "Accounts with less than 10 posts: [NormalAccount(name='User2', country='Canada', friends=[], posts=1), VerifiedAccount(name='User3', country='USA', friends=['User1', 'User2'], posts=2, from_date=2023-01-01 00:00:00)]\n",
            "Filtered accounts from USA: [('User1', 10), ('User3', 2)]\n"
          ]
        }
      ]
    }
  ]
}